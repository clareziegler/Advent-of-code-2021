{
 "cells": [
  {
   "cell_type": "code",
   "execution_count": 46,
   "id": "3f3d6d81",
   "metadata": {},
   "outputs": [],
   "source": [
    "import pandas as pd\n",
    "import numpy as np\n",
    "df = pd.read_csv('C:/Users/clare/Documents/Advent-of-code-2021/day3input.txt', sep=\"\\n\", header=None,dtype=object)"
   ]
  },
  {
   "cell_type": "markdown",
   "id": "d48cbfbb",
   "metadata": {},
   "source": [
    "Part 1"
   ]
  },
  {
   "cell_type": "code",
   "execution_count": 37,
   "id": "54856682",
   "metadata": {
    "scrolled": true
   },
   "outputs": [
    {
     "data": {
      "text/plain": [
       "<bound method StringMethods.split of <pandas.core.strings.accessor.StringMethods object at 0x000001E3D3BA7A60>>"
      ]
     },
     "execution_count": 37,
     "metadata": {},
     "output_type": "execute_result"
    }
   ],
   "source": [
    "directions[0].str.split"
   ]
  },
  {
   "cell_type": "code",
   "execution_count": 43,
   "id": "e29ab33e",
   "metadata": {},
   "outputs": [
    {
     "data": {
      "text/plain": [
       "1000"
      ]
     },
     "execution_count": 43,
     "metadata": {},
     "output_type": "execute_result"
    }
   ],
   "source": [
    "directions[0][0][0]"
   ]
  },
  {
   "cell_type": "code",
   "execution_count": 54,
   "id": "532459e4",
   "metadata": {},
   "outputs": [
    {
     "data": {
      "text/plain": [
       "array([0., 0., 1., 1., 1., 0., 1., 0., 0., 1., 1., 1.])"
      ]
     },
     "execution_count": 54,
     "metadata": {},
     "output_type": "execute_result"
    }
   ],
   "source": [
    "length = len(directions)\n",
    "string = np.zeros(12)\n",
    "\n",
    "for i in range(12):\n",
    "    count_1 = 0\n",
    "    count_0 = 0\n",
    "    for j in range(length):\n",
    "        if directions[0][j][i] == '1':\n",
    "            count_1 = count_1 + 1\n",
    "        else:\n",
    "            count_0 = count_0 + 1\n",
    "    \n",
    "    if count_1 > count_0:\n",
    "        string[i] = '1'\n",
    "    else:\n",
    "        string[i] = '0'\n",
    "string\n"
   ]
  },
  {
   "cell_type": "code",
   "execution_count": 55,
   "id": "26f8bbdc",
   "metadata": {},
   "outputs": [
    {
     "data": {
      "text/plain": [
       "2954600"
      ]
     },
     "execution_count": 55,
     "metadata": {},
     "output_type": "execute_result"
    }
   ],
   "source": [
    "#So gamma rate is 001110100111 in binary = 935\n",
    "#Epsilon rate is 110001011000 in binary = 3160\n",
    "935*3160"
   ]
  }
 ],
 "metadata": {
  "kernelspec": {
   "display_name": "Python 3 (ipykernel)",
   "language": "python",
   "name": "python3"
  },
  "language_info": {
   "codemirror_mode": {
    "name": "ipython",
    "version": 3
   },
   "file_extension": ".py",
   "mimetype": "text/x-python",
   "name": "python",
   "nbconvert_exporter": "python",
   "pygments_lexer": "ipython3",
   "version": "3.9.7"
  }
 },
 "nbformat": 4,
 "nbformat_minor": 5
}
