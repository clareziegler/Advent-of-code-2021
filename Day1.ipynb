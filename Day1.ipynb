{
 "cells": [
  {
   "cell_type": "code",
   "execution_count": 80,
   "id": "85953347",
   "metadata": {},
   "outputs": [],
   "source": [
    "import pandas as pd\n",
    "lines = pd.read_csv('C:/Users/clare/Documents/Advent-of-code-2021/Day1/input.txt', sep=\"\\n\", header=None)"
   ]
  },
  {
   "cell_type": "code",
   "execution_count": 78,
   "id": "c425837b",
   "metadata": {},
   "outputs": [],
   "source": [
    "#Find the length of the file\n",
    "length = len(lines)\n",
    "\n",
    "#Set count to zero\n",
    "count = 0\n",
    "\n",
    "#Iterate over the dataframe and check for larger values\n",
    "for i in range(3,length):\n",
    "    if  (lines[0][i] + lines[0][i-1] + lines[0][i-2]) > (lines[0][i-1] + lines[0][i-2] + lines[0][i-3]):\n",
    "        count = count + 1\n",
    "    else:\n",
    "        count = count + 0"
   ]
  },
  {
   "cell_type": "code",
   "execution_count": 79,
   "id": "96139671",
   "metadata": {},
   "outputs": [
    {
     "data": {
      "text/plain": [
       "1362"
      ]
     },
     "execution_count": 79,
     "metadata": {},
     "output_type": "execute_result"
    }
   ],
   "source": [
    "count"
   ]
  }
 ],
 "metadata": {
  "kernelspec": {
   "display_name": "Python 3 (ipykernel)",
   "language": "python",
   "name": "python3"
  },
  "language_info": {
   "codemirror_mode": {
    "name": "ipython",
    "version": 3
   },
   "file_extension": ".py",
   "mimetype": "text/x-python",
   "name": "python",
   "nbconvert_exporter": "python",
   "pygments_lexer": "ipython3",
   "version": "3.9.7"
  }
 },
 "nbformat": 4,
 "nbformat_minor": 5
}
